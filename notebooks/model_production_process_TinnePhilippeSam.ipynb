{
 "cells": [
  {
   "cell_type": "markdown",
   "metadata": {},
   "source": [
    "# Statistiek evaluatie - Deel 1 - Modeling production process"
   ]
  },
  {
   "cell_type": "code",
   "execution_count": 1,
   "metadata": {},
   "outputs": [],
   "source": [
    "# Importing libraries\n",
    "import pandas as pd\n",
    "import numpy as np\n",
    "from scipy import stats\n",
    "from scipy.optimize import curve_fit\n",
    "from scipy.stats import skew\n",
    "from scipy.special import erf\n",
    "import matplotlib.pyplot as plt\n",
    "import seaborn as sns\n",
    "import os\n",
    "import json\n",
    "\n",
    "# Setting plot configurations\n",
    "plt.rc('figure', figsize=(10, 6))\n",
    "plt.rc('font', size=16)\n",
    "plt.rcParams['axes.spines.right'] = False\n",
    "plt.rcParams['axes.spines.top'] = False"
   ]
  },
  {
   "cell_type": "markdown",
   "metadata": {},
   "source": [
    "## 1. Loading data"
   ]
  },
  {
   "cell_type": "code",
   "execution_count": 2,
   "metadata": {
    "metadata": {}
   },
   "outputs": [
    {
     "name": "stdout",
     "output_type": "stream",
     "text": [
      "{'BRU msr': 1244, 'STO msr': 274}\n",
      "\n",
      "<class 'pandas.core.frame.DataFrame'>\n",
      "Index: 3660 entries, 0 to 1829\n",
      "Data columns (total 9 columns):\n",
      " #   Column          Non-Null Count  Dtype \n",
      "---  ------          --------------  ----- \n",
      " 0   DoW             3660 non-null   object\n",
      " 1   hour            3660 non-null   int64 \n",
      " 2   minute          3660 non-null   int64 \n",
      " 3   date            3660 non-null   object\n",
      " 4   maintenance     3660 non-null   object\n",
      " 5   prod_loss       3660 non-null   object\n",
      " 6   prod_loss_perc  3660 non-null   object\n",
      " 7   production      3660 non-null   object\n",
      " 8   site            3660 non-null   object\n",
      "dtypes: int64(2), object(7)\n",
      "memory usage: 285.9+ KB\n",
      "None\n",
      "\n"
     ]
    },
    {
     "data": {
      "text/html": [
       "<div>\n",
       "<style scoped>\n",
       "    .dataframe tbody tr th:only-of-type {\n",
       "        vertical-align: middle;\n",
       "    }\n",
       "\n",
       "    .dataframe tbody tr th {\n",
       "        vertical-align: top;\n",
       "    }\n",
       "\n",
       "    .dataframe thead th {\n",
       "        text-align: right;\n",
       "    }\n",
       "</style>\n",
       "<table border=\"1\" class=\"dataframe\">\n",
       "  <thead>\n",
       "    <tr style=\"text-align: right;\">\n",
       "      <th></th>\n",
       "      <th>DoW</th>\n",
       "      <th>hour</th>\n",
       "      <th>minute</th>\n",
       "      <th>date</th>\n",
       "      <th>maintenance</th>\n",
       "      <th>prod_loss</th>\n",
       "      <th>prod_loss_perc</th>\n",
       "      <th>production</th>\n",
       "      <th>site</th>\n",
       "    </tr>\n",
       "  </thead>\n",
       "  <tbody>\n",
       "    <tr>\n",
       "      <th>0</th>\n",
       "      <td>Tuesday</td>\n",
       "      <td>1</td>\n",
       "      <td>0</td>\n",
       "      <td>09-22-2020 00:00:00.0000</td>\n",
       "      <td>No</td>\n",
       "      <td>225</td>\n",
       "      <td>18</td>\n",
       "      <td>1019</td>\n",
       "      <td>BRU</td>\n",
       "    </tr>\n",
       "    <tr>\n",
       "      <th>1</th>\n",
       "      <td>Monday</td>\n",
       "      <td>1</td>\n",
       "      <td>0</td>\n",
       "      <td>01-22-2018 00:00:00.0000</td>\n",
       "      <td>No</td>\n",
       "      <td>255</td>\n",
       "      <td>20</td>\n",
       "      <td>989</td>\n",
       "      <td>BRU</td>\n",
       "    </tr>\n",
       "    <tr>\n",
       "      <th>2</th>\n",
       "      <td>Wednesday</td>\n",
       "      <td>1</td>\n",
       "      <td>0</td>\n",
       "      <td>08-21-2019 00:00:00.0000</td>\n",
       "      <td>No</td>\n",
       "      <td>138</td>\n",
       "      <td>11</td>\n",
       "      <td>1106</td>\n",
       "      <td>BRU</td>\n",
       "    </tr>\n",
       "    <tr>\n",
       "      <th>3</th>\n",
       "      <td>Tuesday</td>\n",
       "      <td>1</td>\n",
       "      <td>0</td>\n",
       "      <td>08-21-2018 00:00:00.0000</td>\n",
       "      <td>No</td>\n",
       "      <td>302</td>\n",
       "      <td>24</td>\n",
       "      <td>942</td>\n",
       "      <td>BRU</td>\n",
       "    </tr>\n",
       "    <tr>\n",
       "      <th>4</th>\n",
       "      <td>Wednesday</td>\n",
       "      <td>1</td>\n",
       "      <td>0</td>\n",
       "      <td>09-22-2021 00:00:00.0000</td>\n",
       "      <td>No</td>\n",
       "      <td>211</td>\n",
       "      <td>17</td>\n",
       "      <td>1033</td>\n",
       "      <td>BRU</td>\n",
       "    </tr>\n",
       "  </tbody>\n",
       "</table>\n",
       "</div>"
      ],
      "text/plain": [
       "         DoW  hour  minute                      date maintenance prod_loss  \\\n",
       "0    Tuesday     1       0  09-22-2020 00:00:00.0000          No       225   \n",
       "1     Monday     1       0  01-22-2018 00:00:00.0000          No       255   \n",
       "2  Wednesday     1       0  08-21-2019 00:00:00.0000          No       138   \n",
       "3    Tuesday     1       0  08-21-2018 00:00:00.0000          No       302   \n",
       "4  Wednesday     1       0  09-22-2021 00:00:00.0000          No       211   \n",
       "\n",
       "  prod_loss_perc production site  \n",
       "0             18       1019  BRU  \n",
       "1             20        989  BRU  \n",
       "2             11       1106  BRU  \n",
       "3             24        942  BRU  \n",
       "4             17       1033  BRU  "
      ]
     },
     "execution_count": 2,
     "metadata": {},
     "output_type": "execute_result"
    }
   ],
   "source": [
    "# Defining function that loads JSON files in daily_prod dataframe\n",
    "def load_daily_site_prod(production_site, daily_prod):\n",
    "    \"\"\" Function takes the following parameters:\n",
    "        * site : factory location where the production is taking place\n",
    "        * daily_prd : Pandas dataframe where production is being stored for analysis\"\"\"\n",
    "    # declare list variable to temporarily store production data \n",
    "    daily_site_prod = []\n",
    "    input_folder = '../data/input/daily_production/'\n",
    "    file_path = os.path.join(input_folder, production_site)\n",
    "    \n",
    "    # Iterate through each file in the directory\n",
    "    for filename in os.listdir(file_path):\n",
    "        if filename.endswith('.json'):\n",
    "            full_path = os.path.join(file_path, filename)\n",
    "            # Read JSON file into a dictionary\n",
    "            with open(full_path, 'r') as file:\n",
    "                json_data = json.load(file)\n",
    "            # Append dictionary to the list\n",
    "            daily_site_prod.append(json_data)\n",
    "\n",
    "    # convert list (of dictionaries) to dataframe\n",
    "    site_data = pd.DataFrame(daily_site_prod)\n",
    "    # Add site info to records\n",
    "    site_data['site'] = production_site\n",
    "\n",
    "    daily_prod = pd.concat([daily_prod, site_data])\n",
    "    return daily_prod\n",
    "\n",
    "# Load master_data.json\n",
    "master_data = '../data/input/master_data.json'\n",
    "with open(master_data, 'r') as file:\n",
    "    master_data_file = json.load(file)\n",
    "\n",
    "# Loading site data\n",
    "sites = ['BRU', 'STO']\n",
    "daily_prod = pd.DataFrame()\n",
    "for site in sites:\n",
    "    daily_prod = load_daily_site_prod(site, daily_prod)\n",
    "\n",
    "# Printing to check if data was loaded correctly\n",
    "print(master_data_file)\n",
    "print()\n",
    "print(daily_prod.info())\n",
    "print()\n",
    "daily_prod.head()"
   ]
  },
  {
   "cell_type": "markdown",
   "metadata": {},
   "source": [
    "## 2. Preprocessing data"
   ]
  },
  {
   "cell_type": "code",
   "execution_count": 3,
   "metadata": {
    "metadata": {}
   },
   "outputs": [
    {
     "name": "stdout",
     "output_type": "stream",
     "text": [
      "<class 'pandas.core.frame.DataFrame'>\n",
      "Index: 3452 entries, 0 to 1828\n",
      "Data columns (total 9 columns):\n",
      " #   Column          Non-Null Count  Dtype         \n",
      "---  ------          --------------  -----         \n",
      " 0   DoW             3452 non-null   object        \n",
      " 1   hour            3452 non-null   int64         \n",
      " 2   minute          3452 non-null   int64         \n",
      " 3   date            3452 non-null   datetime64[ns]\n",
      " 4   maintenance     3452 non-null   object        \n",
      " 5   prod_loss       3452 non-null   int64         \n",
      " 6   prod_loss_perc  3452 non-null   int64         \n",
      " 7   production      3452 non-null   int64         \n",
      " 8   site            3452 non-null   object        \n",
      "dtypes: datetime64[ns](1), int64(5), object(3)\n",
      "memory usage: 269.7+ KB\n"
     ]
    },
    {
     "data": {
      "text/html": [
       "<div>\n",
       "<style scoped>\n",
       "    .dataframe tbody tr th:only-of-type {\n",
       "        vertical-align: middle;\n",
       "    }\n",
       "\n",
       "    .dataframe tbody tr th {\n",
       "        vertical-align: top;\n",
       "    }\n",
       "\n",
       "    .dataframe thead th {\n",
       "        text-align: right;\n",
       "    }\n",
       "</style>\n",
       "<table border=\"1\" class=\"dataframe\">\n",
       "  <thead>\n",
       "    <tr style=\"text-align: right;\">\n",
       "      <th></th>\n",
       "      <th>DoW</th>\n",
       "      <th>hour</th>\n",
       "      <th>minute</th>\n",
       "      <th>date</th>\n",
       "      <th>maintenance</th>\n",
       "      <th>prod_loss</th>\n",
       "      <th>prod_loss_perc</th>\n",
       "      <th>production</th>\n",
       "      <th>site</th>\n",
       "    </tr>\n",
       "  </thead>\n",
       "  <tbody>\n",
       "    <tr>\n",
       "      <th>0</th>\n",
       "      <td>Tuesday</td>\n",
       "      <td>1</td>\n",
       "      <td>0</td>\n",
       "      <td>2020-09-22</td>\n",
       "      <td>No</td>\n",
       "      <td>225</td>\n",
       "      <td>18</td>\n",
       "      <td>1019</td>\n",
       "      <td>BRU</td>\n",
       "    </tr>\n",
       "    <tr>\n",
       "      <th>1</th>\n",
       "      <td>Monday</td>\n",
       "      <td>1</td>\n",
       "      <td>0</td>\n",
       "      <td>2018-01-22</td>\n",
       "      <td>No</td>\n",
       "      <td>255</td>\n",
       "      <td>20</td>\n",
       "      <td>989</td>\n",
       "      <td>BRU</td>\n",
       "    </tr>\n",
       "    <tr>\n",
       "      <th>2</th>\n",
       "      <td>Wednesday</td>\n",
       "      <td>1</td>\n",
       "      <td>0</td>\n",
       "      <td>2019-08-21</td>\n",
       "      <td>No</td>\n",
       "      <td>138</td>\n",
       "      <td>11</td>\n",
       "      <td>1106</td>\n",
       "      <td>BRU</td>\n",
       "    </tr>\n",
       "    <tr>\n",
       "      <th>3</th>\n",
       "      <td>Tuesday</td>\n",
       "      <td>1</td>\n",
       "      <td>0</td>\n",
       "      <td>2018-08-21</td>\n",
       "      <td>No</td>\n",
       "      <td>302</td>\n",
       "      <td>24</td>\n",
       "      <td>942</td>\n",
       "      <td>BRU</td>\n",
       "    </tr>\n",
       "    <tr>\n",
       "      <th>4</th>\n",
       "      <td>Wednesday</td>\n",
       "      <td>1</td>\n",
       "      <td>0</td>\n",
       "      <td>2021-09-22</td>\n",
       "      <td>No</td>\n",
       "      <td>211</td>\n",
       "      <td>17</td>\n",
       "      <td>1033</td>\n",
       "      <td>BRU</td>\n",
       "    </tr>\n",
       "  </tbody>\n",
       "</table>\n",
       "</div>"
      ],
      "text/plain": [
       "         DoW  hour  minute       date maintenance  prod_loss  prod_loss_perc  \\\n",
       "0    Tuesday     1       0 2020-09-22          No        225              18   \n",
       "1     Monday     1       0 2018-01-22          No        255              20   \n",
       "2  Wednesday     1       0 2019-08-21          No        138              11   \n",
       "3    Tuesday     1       0 2018-08-21          No        302              24   \n",
       "4  Wednesday     1       0 2021-09-22          No        211              17   \n",
       "\n",
       "   production site  \n",
       "0        1019  BRU  \n",
       "1         989  BRU  \n",
       "2        1106  BRU  \n",
       "3         942  BRU  \n",
       "4        1033  BRU  "
      ]
     },
     "execution_count": 3,
     "metadata": {},
     "output_type": "execute_result"
    }
   ],
   "source": [
    "def preprocess(df):\n",
    "    \"\"\" Function takes dataframe with all production for all sites as input parameter and \n",
    "    returns a dataframe excluding maintenance days and with converted field datatypes.\"\"\"\n",
    "    \n",
    "    # Exclude maintenance days\n",
    "    df = df[df['maintenance'] == 'No']\n",
    "    \n",
    "    # Convert field datatypes\n",
    "    df = df.copy()\n",
    "    df.date = pd.to_datetime(df.date)\n",
    "    df.prod_loss_perc = df.prod_loss_perc.astype(int)\n",
    "    df.prod_loss = df.prod_loss.astype(int)\n",
    "    df.production = df.production.astype(int)\n",
    "    return df\n",
    "\n",
    "# Filtering out maintenance days and converting datatypes\n",
    "daily_prod_excl_maint = preprocess(daily_prod)\n",
    "\n",
    "# Visual inspection of dataframe\n",
    "daily_prod_excl_maint.info()\n",
    "daily_prod_excl_maint.head()"
   ]
  },
  {
   "cell_type": "markdown",
   "metadata": {},
   "source": [
    "## 3. Exploratory Data Analysis"
   ]
  },
  {
   "cell_type": "markdown",
   "metadata": {},
   "source": [
    "### 3.0 Explore maintenance and calculate percentage rates\n",
    "\n",
    "#### Note: This is for information purpose only, as the assignment was to exclude maintenance days. The calculations from section 3.1 onwards are all done with the data excluding maintenance days"
   ]
  },
  {
   "cell_type": "code",
   "execution_count": 4,
   "metadata": {
    "metadata": {}
   },
   "outputs": [
    {
     "name": "stdout",
     "output_type": "stream",
     "text": [
      "Total days in BRU: 1830\n",
      "Maintenance days in BRU: 94\n",
      "No maintenance days in BRU: 1736\n",
      "Percentage of maintenance days in BRU: 5.14%\n",
      "\n",
      "Total days in STO: 1830\n",
      "Maintenance days in STO: 114\n",
      "No maintenance days in STO: 1716\n",
      "Percentage of maintenance days in STO: 6.23%\n",
      "\n"
     ]
    }
   ],
   "source": [
    "# Count maintenance and no-maintenance days for each site\n",
    "maintenance_counts = daily_prod.groupby(['site', 'maintenance']).size().unstack(fill_value=0)\n",
    "\n",
    "# Calculate total days per site\n",
    "total_days_per_site = maintenance_counts.sum(axis=1)\n",
    "\n",
    "# Extract counts for maintenance and no-maintenance days\n",
    "maintenance_days_per_site = maintenance_counts.get('Yes', 0)\n",
    "no_maintenance_days_per_site = maintenance_counts.get('No', 0)\n",
    "\n",
    "# Calculate percentage of maintenance days per site\n",
    "maintenance_perc_per_site = (maintenance_days_per_site / total_days_per_site) * 100\n",
    "\n",
    "# Print results for each site\n",
    "for site in ['BRU', 'STO']:\n",
    "    total_days = total_days_per_site.get(site, 0)\n",
    "    maintenance_days = maintenance_days_per_site.get(site, 0)\n",
    "    no_maintenance_days = no_maintenance_days_per_site.get(site, 0)\n",
    "    maintenance_perc = maintenance_perc_per_site.get(site, 0)\n",
    "\n",
    "    print(f\"Total days in {site}: {total_days}\")\n",
    "    print(f\"Maintenance days in {site}: {maintenance_days}\")\n",
    "    print(f\"No maintenance days in {site}: {no_maintenance_days}\")\n",
    "    print(f\"Percentage of maintenance days in {site}: {maintenance_perc:.2f}%\")\n",
    "    print()\n"
   ]
  },
  {
   "cell_type": "markdown",
   "metadata": {},
   "source": [
    "### 3.2 Calculate 0 production probability per site"
   ]
  },
  {
   "cell_type": "code",
   "execution_count": 5,
   "metadata": {
    "metadata": {}
   },
   "outputs": [
    {
     "name": "stdout",
     "output_type": "stream",
     "text": [
      "Total no maintenance days in BRU: 1736\n",
      "Zero production days in BRU: 308\n",
      "Percentage of zero production day for BRU: 17.74%\n",
      "\n",
      "Total no maintenance days in STO: 1716\n",
      "Zero production days in STO: 126\n",
      "Percentage of zero production day for STO: 7.34%\n",
      "\n"
     ]
    }
   ],
   "source": [
    "# Group data by site and calculate zero and non-zero production counts\n",
    "prod_counts = daily_prod_excl_maint.groupby(['site', 'production']).size().unstack(fill_value=0)\n",
    "\n",
    "# Get zero production counts and total counts for each site\n",
    "zero_prod_counts_per_site = prod_counts.get(0, 0)\n",
    "total_counts_per_site = prod_counts.sum(axis=1)\n",
    "\n",
    "# Calculate the probability of zero production for each site\n",
    "prob_zero_prod_per_site = zero_prod_counts_per_site / total_counts_per_site * 100\n",
    "\n",
    "# Extract and print results for each site\n",
    "for site in ['BRU', 'STO']:\n",
    "    total_days = total_counts_per_site.get(site, 0)\n",
    "    zero_days = zero_prod_counts_per_site.get(site, 0)\n",
    "    prob_zero_prod = prob_zero_prod_per_site.get(site, 0)\n",
    "\n",
    "    print(f\"Total no maintenance days in {site}: {total_days}\")\n",
    "    print(f\"Zero production days in {site}: {zero_days}\")\n",
    "    print(f\"Percentage of zero production day for {site}: {prob_zero_prod:.2f}%\")\n",
    "    print()\n"
   ]
  },
  {
   "cell_type": "markdown",
   "metadata": {},
   "source": [
    "### 3.3 Visualize production distribution"
   ]
  },
  {
   "cell_type": "code",
   "execution_count": 6,
   "metadata": {
    "metadata": {}
   },
   "outputs": [
    {
     "data": {
      "text/plain": [
       "<Axes: >"
      ]
     },
     "execution_count": 6,
     "metadata": {},
     "output_type": "execute_result"
    },
    {
     "data": {
      "image/png": "[encoded data removed]",
      "text/plain": [
       "<Figure size 1000x600 with 1 Axes>"
      ]
     },
     "metadata": {},
     "output_type": "display_data"
    }
   ],
   "source": [
    "# Visualize distribution of production on sites\n",
    "daily_prod_bru = daily_prod_excl_maint[(daily_prod_excl_maint['site'] == 'BRU') & (daily_prod_excl_maint.production != 0)]\n",
    "daily_prod_bru['production'].hist(bins=50)\n",
    "\n",
    "daily_prod_sto = daily_prod_excl_maint[(daily_prod_excl_maint['site'] == 'STO') & (daily_prod_excl_maint.production != 0)]\n",
    "daily_prod_sto['production'].hist(bins=50)"
   ]
  },
  {
   "cell_type": "code",
   "execution_count": 7,
   "metadata": {
    "metadata": {}
   },
   "outputs": [
    {
     "data": {
      "text/plain": [
       "(989.218487394958, 108.90790262811456)"
      ]
     },
     "execution_count": 7,
     "metadata": {},
     "output_type": "execute_result"
    }
   ],
   "source": [
    "stats.norm.fit(daily_prod_bru['production'])"
   ]
  },
  {
   "cell_type": "code",
   "execution_count": 8,
   "metadata": {
    "metadata": {}
   },
   "outputs": [
    {
     "name": "stdout",
     "output_type": "stream",
     "text": [
      "Mean BRU production: 989.22\n",
      "Std BRU production: 108.91\n"
     ]
    },
    {
     "data": {
      "image/png": "[encoded data removed]",
      "text/plain": [
       "<Figure size 1000x600 with 1 Axes>"
      ]
     },
     "metadata": {},
     "output_type": "display_data"
    }
   ],
   "source": [
    "# Define BRU production distribution and calculate PDF\n",
    "\n",
    "# Plot BRU production values in histogram\n",
    "daily_prod_bru['production'].hist(bins=np.linspace(0, 1300, 100), density = True)\n",
    "\n",
    "# Define PDF parameters\n",
    "mean, std_dev = stats.norm.fit(daily_prod_bru['production'])\n",
    "\n",
    "print('Mean BRU production:', round(mean, 2))\n",
    "print('Std BRU production:', round(std_dev, 2))\n",
    "\n",
    "# Generate values that fit my data\n",
    "x_values = np.linspace(np.min(daily_prod_bru['production']), np.max(daily_prod_bru['production']), 1000)\n",
    "\n",
    "# Calculate PDF\n",
    "pdf_values = stats.norm.pdf(x_values, loc=mean, scale=std_dev)\n",
    "\n",
    "# Plot the PDF\n",
    "plt.plot(x_values, pdf_values, color='darkorange', label='Probability Density Function')\n",
    "plt.title('Normal distribution of production at BRU')\n",
    "plt.xlabel('Production at BRU')\n",
    "plt.ylabel('PDF(x)')\n",
    "plt.grid(True)\n",
    "plt.legend()\n",
    "plt.show()"
   ]
  },
  {
   "cell_type": "code",
   "execution_count": 9,
   "metadata": {
    "metadata": {}
   },
   "outputs": [
    {
     "name": "stdout",
     "output_type": "stream",
     "text": [
      "Mean STO production: 190.97\n",
      "Std STO production: 40.18\n",
      "\n",
      "Adjusted the mean (205 instead of 190) & std (15 instead of 40) of the PDF to better fit the actual distribution (visually)\n"
     ]
    },
    {
     "data": {
      "image/png": "[encoded data removed]",
      "text/plain": [
       "<Figure size 1000x600 with 1 Axes>"
      ]
     },
     "metadata": {},
     "output_type": "display_data"
    }
   ],
   "source": [
    "# Calculate PDF of distribution at STO\n",
    "\n",
    "# Plot STO production values in histogram\n",
    "daily_prod_sto['production'].hist(bins=np.linspace(0, 280, 100), density = True)\n",
    "\n",
    "# Calculate PDF parameters\n",
    "mean, std_dev = stats.norm.fit(daily_prod_sto['production'])\n",
    "print('Mean STO production:', round(mean, 2))\n",
    "print('Std STO production:', round(std_dev, 2))\n",
    "\n",
    "# Generate values that fit my data\n",
    "x_values = np.linspace(np.min(daily_prod_sto['production']), np.max(daily_prod_sto['production']), 1000)\n",
    "\n",
    "# Calculate PDF => adjusted the loc and scale parameters to better fit the actual distribution\n",
    "pdf_values = stats.norm.pdf(x_values, loc=205, scale=15)\n",
    "\n",
    "print()\n",
    "print('Adjusted the mean (205 instead of 190) & std (15 instead of 40) of the PDF to better fit the actual distribution')\n",
    "\n",
    "# Plot the PDF\n",
    "plt.plot(x_values, pdf_values, color='darkorange', label='Probability Density Function')\n",
    "plt.title('Normal distribution of production at STO')\n",
    "plt.xlabel('Production at STO')\n",
    "plt.ylabel('PDF(x)')\n",
    "plt.grid(True)\n",
    "plt.show()"
   ]
  },
  {
   "cell_type": "code",
   "execution_count": 10,
   "metadata": {
    "metadata": {}
   },
   "outputs": [
    {
     "data": {
      "text/plain": [
       "11.58"
      ]
     },
     "execution_count": 10,
     "metadata": {},
     "output_type": "execute_result"
    }
   ],
   "source": [
    "# Calculate percentage of production in STO that falls outside of the normal distribution with mean 205 and std_dev of 15\n",
    "\n",
    "round((daily_prod_sto[daily_prod_sto['production'] < 150].shape[0] / daily_prod_sto[daily_prod_sto['production'] >= 150].shape[0]) * 100, 2)\n",
    "\n",
    "# This is currently not taken into account in the simulation, but could be considered statistically significant enough when modelling the in a real life scenario."
   ]
  },
  {
   "cell_type": "markdown",
   "metadata": {},
   "source": [
    "### Conclusion: BRU and STO both have a left skewed normal distribution if 0 production days are not taken into account.\n",
    "### For "
   ]
  },
  {
   "cell_type": "markdown",
   "metadata": {},
   "source": [
    "## 4.1. Modeling production capability BRU"
   ]
  },
  {
   "cell_type": "markdown",
   "metadata": {},
   "source": [
    "### 4.1.1 Calculate probability of productive days taking into account maintenance and 0 production days"
   ]
  },
  {
   "cell_type": "code",
   "execution_count": 11,
   "metadata": {
    "metadata": {}
   },
   "outputs": [
    {
     "ename": "NameError",
     "evalue": "name 'prob_maint_bru' is not defined",
     "output_type": "error",
     "traceback": [
      "\u001b[0;31m---------------------------------------------------------------------------\u001b[0m",
      "\u001b[0;31mNameError\u001b[0m                                 Traceback (most recent call last)",
      "Cell \u001b[0;32mIn[11], line 5\u001b[0m\n\u001b[1;32m      2\u001b[0m num_days \u001b[38;5;241m=\u001b[39m \u001b[38;5;241m100\u001b[39m  \u001b[38;5;66;03m# Number of days to simulate\u001b[39;00m\n\u001b[1;32m      4\u001b[0m \u001b[38;5;66;03m# calculate the probability of a non-maintenance day by substracting the prob of maintenance from 1\u001b[39;00m\n\u001b[0;32m----> 5\u001b[0m prob_no_maint_bru \u001b[38;5;241m=\u001b[39m \u001b[38;5;241m1\u001b[39m \u001b[38;5;241m-\u001b[39m (prob_maint_bru \u001b[38;5;241m/\u001b[39m \u001b[38;5;241m100\u001b[39m)\n\u001b[1;32m      6\u001b[0m \u001b[38;5;66;03m# calculate the probability of a +0 production day by substracting the prob of a 0-production day from 1\u001b[39;00m\n\u001b[1;32m      7\u001b[0m prob_no_zero_prod_bru \u001b[38;5;241m=\u001b[39m \u001b[38;5;241m1\u001b[39m \u001b[38;5;241m-\u001b[39m (prob_zero_prod_bru \u001b[38;5;241m/\u001b[39m \u001b[38;5;241m100\u001b[39m)\n",
      "\u001b[0;31mNameError\u001b[0m: name 'prob_maint_bru' is not defined"
     ]
    }
   ],
   "source": [
    "# Define parameters\n",
    "num_days = 100  # Number of days to simulate\n",
    "\n",
    "# calculate the probability of a non-maintenance day by substracting the prob of maintenance from 1\n",
    "prob_no_maint_bru = 1 - (prob_maint_bru / 100)\n",
    "# calculate the probability of a +0 production day by substracting the prob of a 0-production day from 1\n",
    "prob_no_zero_prod_bru = 1 - (prob_zero_prod_bru / 100)\n",
    "\n",
    "# Calculate the overal probability a - higher-than-zero - production day (no maintenance with non-zero production day)\n",
    "prob_no_maint_no_zero_prod_bru = prob_no_maint_bru * prob_no_zero_prod_bru\n",
    "\n",
    "# Simulate production scenario for num_days taking into account the overal probability of a - higher-than-zero - production day\n",
    "no_maint_no_zero_prod_days = stats.binom.rvs(1, prob_no_maint_no_zero_prod_bru, size=num_days)\n",
    "\n",
    "# Print out the probability and the result of the simulation\n",
    "print(f'The probability of days with  more than 0 production is: {prob_no_maint_no_zero_prod_bru:.2f}%')\n",
    "print()\n",
    "print(f'A potential distribution of {num_days} production days taking into account zero production-days and maintenance on site BRU: ')\n",
    "print()\n",
    "print(no_maint_no_zero_prod_days)"
   ]
  },
  {
   "cell_type": "markdown",
   "metadata": {},
   "source": [
    "### 4.1.2 Simulate production for x days"
   ]
  },
  {
   "cell_type": "code",
   "execution_count": null,
   "metadata": {
    "metadata": {}
   },
   "outputs": [],
   "source": [
    "def production_simulation(num_days, num_simulations):\n",
    "    \"\"\"Simulate production on a number of days (num_days) and repeats simulation (num_simulations)\"\"\"\n",
    "    \n",
    "    # declare list to store production values for all simulations\n",
    "    simulated_data = []\n",
    "    for sim in range(num_simulations):\n",
    "        production_data = []\n",
    "        \n",
    "        # simulate distribution of days, taking into account the probability for maintenance and days with 0 production\n",
    "        no_maint_no_zero_prod_days = stats.binom.rvs(1, prob_no_maint_no_zero_prod_bru, size=num_days)\n",
    "        \n",
    "        for day in no_maint_no_zero_prod_days:\n",
    "            if day == 0: \n",
    "                # this is either a maintenance day, or a day with 0 production\n",
    "                production_data.append(0)\n",
    "            else: \n",
    "                # this is a day with a production > 0 \n",
    "                daily_production = np.random.normal(daily_prod_bru['production'].mean(), daily_prod_bru['production'].std())\n",
    "                production_data.append(int(daily_production))\n",
    "        \n",
    "        # append simulation to list\n",
    "        simulated_data.append(production_data)\n",
    "    return simulated_data\n",
    "\n",
    "my_simulation_bru = production_simulation(30, 10**3)\n",
    "\n",
    "# Calculate total production for each simulation\n",
    "simulations_total_prod_bru = []\n",
    "for row in my_simulation_bru:\n",
    "    prod_per_numdays = np.sum(row)\n",
    "    simulations_total_prod_bru.append(prod_per_numdays)\n",
    "\n",
    "plt.hist(simulations_total_prod_bru, bins=70)\n",
    "plt.xlabel('Total production')\n",
    "plt.ylabel('Frequency')\n",
    "plt.title(f'Total production in BRU on {num_days} days')\n",
    "\n",
    "# Show plot\n",
    "plt.grid(True)\n",
    "plt.show()"
   ]
  },
  {
   "cell_type": "code",
   "execution_count": null,
   "metadata": {
    "metadata": {}
   },
   "outputs": [],
   "source": [
    "# Sorting the data\n",
    "sorted_data = np.sort(simulations_total_prod_bru)\n",
    "\n",
    "# Calculate the cumulative probabilities\n",
    "cumulative_prob = np.arange(1, len(sorted_data) + 1) / len(sorted_data)\n",
    "\n",
    "# Plot the empirical CDF\n",
    "plt.plot(sorted_data, cumulative_prob, marker='.', linestyle='none', color=\"seagreen\")\n",
    "plt.xlabel('Production')\n",
    "plt.ylabel('Cumulative Probability')\n",
    "plt.title(f'Empirical Cumulative Distribution Function (CDF) for BRU  {num_days} days')\n",
    "plt.grid(True)\n",
    "plt.show()"
   ]
  },
  {
   "cell_type": "markdown",
   "metadata": {},
   "source": [
    "## 4.2 Modeling production capability STO"
   ]
  },
  {
   "cell_type": "markdown",
   "metadata": {},
   "source": [
    "### 4.2.1 Calculate probability of productive days taking into account maintenance and 0 production days"
   ]
  },
  {
   "cell_type": "code",
   "execution_count": null,
   "metadata": {
    "metadata": {}
   },
   "outputs": [],
   "source": [
    "# Define parameters\n",
    "num_days = 100  # Number of days to simulate\n",
    "\n",
    "# calculate the probability of a non-maintenance day by substracting the prob of maintenance from 1\n",
    "prob_no_maint_sto = 1 - (prob_maint_sto / 100)\n",
    "# calculate the probability of a +0 production day by substracting the prob of a 0-production day from 1\n",
    "prob_no_zero_prod_sto = 1 - (prob_zero_prod_sto / 100)\n",
    "\n",
    "# Calculate the overal probability a - higher-than-zero - production day (no maintenance with non-zero production day)\n",
    "prob_no_maint_no_zero_prod_sto = prob_no_maint_sto * prob_no_zero_prod_sto\n",
    "\n",
    "# Simulate production scenario for num_days taking into account the overal probability of a - higher-than-zero - production day\n",
    "no_maint_no_zero_prod_days = stats.binom.rvs(1, prob_no_maint_no_zero_prod_sto, size=num_days)\n",
    "\n",
    "# Print out the probability and the result of the simulation\n",
    "print(f'The probability of days with  more than 0 production is: {prob_no_maint_no_zero_prod_sto:.2f}%')\n",
    "print()\n",
    "print(f'A potential distribution of {num_days} production days taking into account zero production-days and maintenance on site STO: ')\n",
    "print()\n",
    "print(no_maint_no_zero_prod_days)"
   ]
  },
  {
   "cell_type": "markdown",
   "metadata": {},
   "source": [
    "### 4.1.2 Simulate production for x days"
   ]
  },
  {
   "cell_type": "code",
   "execution_count": null,
   "metadata": {
    "metadata": {}
   },
   "outputs": [],
   "source": [
    "def production_simulation(num_days, num_simulations):\n",
    "    \"\"\"Simulate production on a number of days (num_days) and repeats simulation (num_simulations)\"\"\"\n",
    "    \n",
    "    # declare list to store production values for all simulations\n",
    "    simulated_data = []\n",
    "    for sim in range(num_simulations):\n",
    "        production_data = []\n",
    "        \n",
    "        # simulate distribution of days, taking into account the probability for maintenance and days with 0 production\n",
    "        no_maint_no_zero_prod_days = stats.binom.rvs(1, prob_no_maint_no_zero_prod_sto, size=num_days)\n",
    "        \n",
    "        for day in no_maint_no_zero_prod_days:\n",
    "            if day == 0: \n",
    "                # this is either a maintenance day, or a day with 0 production\n",
    "                production_data.append(0)\n",
    "            else: \n",
    "                # this is a day with a production > 0\n",
    "                daily_production = np.random.normal(205, 15)\n",
    "                # daily_production = np.random.normal(daily_prod_sto['production'].mean(), daily_prod_sto['production'].std())\n",
    "                production_data.append(int(daily_production))\n",
    "        \n",
    "        # append simulation to list\n",
    "        simulated_data.append(production_data)\n",
    "    return simulated_data\n",
    "\n",
    "my_simulation_sto = production_simulation(30, 10**3)\n",
    "\n",
    "# Calculate total production for each simulation\n",
    "simulations_total_prod_sto = []\n",
    "for row in my_simulation_sto:\n",
    "    prod_per_numdays = np.sum(row)\n",
    "    simulations_total_prod_sto.append(prod_per_numdays)\n",
    "\n",
    "plt.hist(simulations_total_prod_sto, bins=70)\n",
    "plt.xlabel('Total production')\n",
    "plt.ylabel('Frequency')\n",
    "plt.title(f'Total production in STO on {num_days} days')\n",
    "\n",
    "# Show plot\n",
    "plt.grid(True)\n",
    "plt.show()"
   ]
  },
  {
   "cell_type": "code",
   "execution_count": null,
   "metadata": {
    "metadata": {}
   },
   "outputs": [],
   "source": [
    "def production_simulation(num_days, num_simulations):\n",
    "    \"\"\"Simulate production on a number of days (num_days) and repeats simulation (num_simulations)\"\"\"\n",
    "    \n",
    "    # declare list to store production values for all simulations\n",
    "    simulated_data = []\n",
    "    for sim in range(num_simulations):\n",
    "        production_data = []\n",
    "        \n",
    "        # simulate distribution of days, taking into account the probability for maintenance and days with 0 production\n",
    "        no_maint_no_zero_prod_days = stats.binom.rvs(1, prob_no_maint_no_zero_prod_sto, size=num_days)\n",
    "        \n",
    "        for day in no_maint_no_zero_prod_days:\n",
    "            if day == 0: \n",
    "                # this is either a maintenance day, or a day with 0 production\n",
    "                production_data.append(0)\n",
    "            else: \n",
    "                # this is a day with a production > 0\n",
    "                # daily_production = np.random.normal(205, 15)\n",
    "                daily_production = np.random.normal(daily_prod_sto['production'].mean(), daily_prod_sto['production'].std())\n",
    "                production_data.append(int(daily_production))\n",
    "        \n",
    "        # append simulation to list\n",
    "        simulated_data.append(production_data)\n",
    "    return simulated_data\n",
    "\n",
    "my_simulation_sto = production_simulation(30, 10**3)\n",
    "\n",
    "# Calculate total production for each simulation\n",
    "simulations_total_prod_sto = []\n",
    "for row in my_simulation_sto:\n",
    "    prod_per_numdays = np.sum(row)\n",
    "    simulations_total_prod_sto.append(prod_per_numdays)\n",
    "\n",
    "plt.hist(simulations_total_prod_sto, bins=70)\n",
    "plt.xlabel('Total production')\n",
    "plt.ylabel('Frequency')\n",
    "plt.title(f'Total production in STO on {num_days} days')\n",
    "\n",
    "# Show plot\n",
    "plt.grid(True)\n",
    "plt.show()"
   ]
  },
  {
   "cell_type": "code",
   "execution_count": null,
   "metadata": {
    "metadata": {}
   },
   "outputs": [],
   "source": [
    "# Sorting the data\n",
    "sorted_data = np.sort(simulations_total_prod_sto)\n",
    "\n",
    "# Calculate the cumulative probabilities\n",
    "cumulative_prob_sto = np.arange(1, len(sorted_data) + 1) / len(sorted_data)\n",
    "\n",
    "# Plot the empirical CDF\n",
    "plt.plot(sorted_data, cumulative_prob_sto, marker='.', linestyle='none', color=\"seagreen\")\n",
    "plt.xlabel('Production')\n",
    "plt.ylabel('Cumulative Probability')\n",
    "plt.title(f'Empirical Cumulative Distribution Function (CDF) for BRU  {num_days} days')\n",
    "plt.grid(True)\n",
    "plt.show()"
   ]
  },
  {
   "cell_type": "code",
   "execution_count": null,
   "metadata": {},
   "outputs": [],
   "source": []
  }
 ],
 "metadata": {
  "kernelspec": {
   "display_name": "base",
   "language": "python",
   "name": "python3"
  },
  "language_info": {
   "codemirror_mode": {
    "name": "ipython",
    "version": 3
   },
   "file_extension": ".py",
   "mimetype": "text/x-python",
   "name": "python",
   "nbconvert_exporter": "python",
   "pygments_lexer": "ipython3",
   "version": "3.11.5"
  }
 },
 "nbformat": 4,
 "nbformat_minor": 2
}
