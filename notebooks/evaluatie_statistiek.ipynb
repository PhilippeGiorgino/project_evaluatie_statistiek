{
 "cells": [
  {
   "cell_type": "code",
   "execution_count": 1,
   "metadata": {},
   "outputs": [],
   "source": [
    "import pandas as pd\n",
    "import numpy as np\n",
    "from scipy import stats\n",
    "import matplotlib.pyplot as plt\n",
    "import seaborn as sns\n",
    "import os\n",
    "import json"
   ]
  },
  {
   "cell_type": "markdown",
   "metadata": {},
   "source": [
    "## Loading data"
   ]
  },
  {
   "cell_type": "code",
   "execution_count": 2,
   "metadata": {},
   "outputs": [
    {
     "name": "stdout",
     "output_type": "stream",
     "text": [
      "<class 'pandas.core.frame.DataFrame'>\n",
      "Index: 3660 entries, 0 to 1829\n",
      "Data columns (total 9 columns):\n",
      " #   Column          Non-Null Count  Dtype \n",
      "---  ------          --------------  ----- \n",
      " 0   DoW             3660 non-null   object\n",
      " 1   hour            3660 non-null   int64 \n",
      " 2   minute          3660 non-null   int64 \n",
      " 3   date            3660 non-null   object\n",
      " 4   maintenance     3660 non-null   object\n",
      " 5   prod_loss       3660 non-null   object\n",
      " 6   prod_loss_perc  3660 non-null   object\n",
      " 7   production      3660 non-null   object\n",
      " 8   site            3660 non-null   object\n",
      "dtypes: int64(2), object(7)\n",
      "memory usage: 285.9+ KB\n"
     ]
    },
    {
     "data": {
      "text/html": [
       "<div>\n",
       "<style scoped>\n",
       "    .dataframe tbody tr th:only-of-type {\n",
       "        vertical-align: middle;\n",
       "    }\n",
       "\n",
       "    .dataframe tbody tr th {\n",
       "        vertical-align: top;\n",
       "    }\n",
       "\n",
       "    .dataframe thead th {\n",
       "        text-align: right;\n",
       "    }\n",
       "</style>\n",
       "<table border=\"1\" class=\"dataframe\">\n",
       "  <thead>\n",
       "    <tr style=\"text-align: right;\">\n",
       "      <th></th>\n",
       "      <th>DoW</th>\n",
       "      <th>hour</th>\n",
       "      <th>minute</th>\n",
       "      <th>date</th>\n",
       "      <th>maintenance</th>\n",
       "      <th>prod_loss</th>\n",
       "      <th>prod_loss_perc</th>\n",
       "      <th>production</th>\n",
       "      <th>site</th>\n",
       "    </tr>\n",
       "  </thead>\n",
       "  <tbody>\n",
       "    <tr>\n",
       "      <th>0</th>\n",
       "      <td>Tuesday</td>\n",
       "      <td>1</td>\n",
       "      <td>0</td>\n",
       "      <td>09-22-2020 00:00:00.0000</td>\n",
       "      <td>No</td>\n",
       "      <td>225</td>\n",
       "      <td>18</td>\n",
       "      <td>1019</td>\n",
       "      <td>BRU</td>\n",
       "    </tr>\n",
       "    <tr>\n",
       "      <th>1</th>\n",
       "      <td>Monday</td>\n",
       "      <td>1</td>\n",
       "      <td>0</td>\n",
       "      <td>01-22-2018 00:00:00.0000</td>\n",
       "      <td>No</td>\n",
       "      <td>255</td>\n",
       "      <td>20</td>\n",
       "      <td>989</td>\n",
       "      <td>BRU</td>\n",
       "    </tr>\n",
       "    <tr>\n",
       "      <th>2</th>\n",
       "      <td>Wednesday</td>\n",
       "      <td>1</td>\n",
       "      <td>0</td>\n",
       "      <td>08-21-2019 00:00:00.0000</td>\n",
       "      <td>No</td>\n",
       "      <td>138</td>\n",
       "      <td>11</td>\n",
       "      <td>1106</td>\n",
       "      <td>BRU</td>\n",
       "    </tr>\n",
       "    <tr>\n",
       "      <th>3</th>\n",
       "      <td>Tuesday</td>\n",
       "      <td>1</td>\n",
       "      <td>0</td>\n",
       "      <td>08-21-2018 00:00:00.0000</td>\n",
       "      <td>No</td>\n",
       "      <td>302</td>\n",
       "      <td>24</td>\n",
       "      <td>942</td>\n",
       "      <td>BRU</td>\n",
       "    </tr>\n",
       "    <tr>\n",
       "      <th>4</th>\n",
       "      <td>Wednesday</td>\n",
       "      <td>1</td>\n",
       "      <td>0</td>\n",
       "      <td>09-22-2021 00:00:00.0000</td>\n",
       "      <td>No</td>\n",
       "      <td>211</td>\n",
       "      <td>17</td>\n",
       "      <td>1033</td>\n",
       "      <td>BRU</td>\n",
       "    </tr>\n",
       "  </tbody>\n",
       "</table>\n",
       "</div>"
      ],
      "text/plain": [
       "         DoW  hour  minute                      date maintenance prod_loss  \\\n",
       "0    Tuesday     1       0  09-22-2020 00:00:00.0000          No       225   \n",
       "1     Monday     1       0  01-22-2018 00:00:00.0000          No       255   \n",
       "2  Wednesday     1       0  08-21-2019 00:00:00.0000          No       138   \n",
       "3    Tuesday     1       0  08-21-2018 00:00:00.0000          No       302   \n",
       "4  Wednesday     1       0  09-22-2021 00:00:00.0000          No       211   \n",
       "\n",
       "  prod_loss_perc production site  \n",
       "0             18       1019  BRU  \n",
       "1             20        989  BRU  \n",
       "2             11       1106  BRU  \n",
       "3             24        942  BRU  \n",
       "4             17       1033  BRU  "
      ]
     },
     "execution_count": 2,
     "metadata": {},
     "output_type": "execute_result"
    }
   ],
   "source": [
    "def load_daily_site_prod(site, daily_prod):\n",
    "    daily_site_prod = []\n",
    "    input_folder = '../data/input/daily_production/'\n",
    "    file_path = os.path.join(input_folder, site)\n",
    "    \n",
    "    # Iterate through each file in the directory\n",
    "    for filename in os.listdir(file_path):\n",
    "        if filename.endswith('.json'):\n",
    "            full_path = os.path.join(file_path, filename)\n",
    "            # Read JSON file into a dictionary\n",
    "            with open(full_path, 'r') as file:\n",
    "                json_data = json.load(file)\n",
    "            # Append dictionary to the list\n",
    "            daily_site_prod.append(json_data)\n",
    "\n",
    "    # convert list (of dictionaries) to dataframe\n",
    "    site_data = pd.DataFrame(daily_site_prod)\n",
    "    # Add site info to records\n",
    "    site_data['site'] = site\n",
    "\n",
    "    daily_prod = pd.concat([daily_prod, site_data])\n",
    "    return daily_prod\n",
    "\n",
    "# Load master_data.json\n",
    "master_data = '../data/input/master_data.json'\n",
    "# Read JSON file into a dictionary\n",
    "with open(master_data, 'r') as file:\n",
    "    master_data_file = json.load(file)\n",
    "\n",
    "# Load site data\n",
    "sites = ['BRU', 'STO']\n",
    "daily_prod = pd.DataFrame()\n",
    "for site in sites:\n",
    "    daily_prod = load_daily_site_prod(site, daily_prod)\n",
    "    \n",
    "daily_prod.info()\n",
    "daily_prod.head()"
   ]
  },
  {
   "cell_type": "markdown",
   "metadata": {},
   "source": [
    "## Preprocessing data"
   ]
  },
  {
   "cell_type": "code",
   "execution_count": 3,
   "metadata": {},
   "outputs": [
    {
     "name": "stdout",
     "output_type": "stream",
     "text": [
      "<class 'pandas.core.frame.DataFrame'>\n",
      "Index: 3452 entries, 0 to 1828\n",
      "Data columns (total 9 columns):\n",
      " #   Column          Non-Null Count  Dtype         \n",
      "---  ------          --------------  -----         \n",
      " 0   DoW             3452 non-null   object        \n",
      " 1   hour            3452 non-null   int64         \n",
      " 2   minute          3452 non-null   int64         \n",
      " 3   date            3452 non-null   datetime64[ns]\n",
      " 4   maintenance     3452 non-null   object        \n",
      " 5   prod_loss       3452 non-null   int64         \n",
      " 6   prod_loss_perc  3452 non-null   int64         \n",
      " 7   production      3452 non-null   int64         \n",
      " 8   site            3452 non-null   object        \n",
      "dtypes: datetime64[ns](1), int64(5), object(3)\n",
      "memory usage: 269.7+ KB\n"
     ]
    },
    {
     "data": {
      "text/html": [
       "<div>\n",
       "<style scoped>\n",
       "    .dataframe tbody tr th:only-of-type {\n",
       "        vertical-align: middle;\n",
       "    }\n",
       "\n",
       "    .dataframe tbody tr th {\n",
       "        vertical-align: top;\n",
       "    }\n",
       "\n",
       "    .dataframe thead th {\n",
       "        text-align: right;\n",
       "    }\n",
       "</style>\n",
       "<table border=\"1\" class=\"dataframe\">\n",
       "  <thead>\n",
       "    <tr style=\"text-align: right;\">\n",
       "      <th></th>\n",
       "      <th>DoW</th>\n",
       "      <th>hour</th>\n",
       "      <th>minute</th>\n",
       "      <th>date</th>\n",
       "      <th>maintenance</th>\n",
       "      <th>prod_loss</th>\n",
       "      <th>prod_loss_perc</th>\n",
       "      <th>production</th>\n",
       "      <th>site</th>\n",
       "    </tr>\n",
       "  </thead>\n",
       "  <tbody>\n",
       "    <tr>\n",
       "      <th>0</th>\n",
       "      <td>Tuesday</td>\n",
       "      <td>1</td>\n",
       "      <td>0</td>\n",
       "      <td>2020-09-22</td>\n",
       "      <td>No</td>\n",
       "      <td>225</td>\n",
       "      <td>18</td>\n",
       "      <td>1019</td>\n",
       "      <td>BRU</td>\n",
       "    </tr>\n",
       "    <tr>\n",
       "      <th>1</th>\n",
       "      <td>Monday</td>\n",
       "      <td>1</td>\n",
       "      <td>0</td>\n",
       "      <td>2018-01-22</td>\n",
       "      <td>No</td>\n",
       "      <td>255</td>\n",
       "      <td>20</td>\n",
       "      <td>989</td>\n",
       "      <td>BRU</td>\n",
       "    </tr>\n",
       "    <tr>\n",
       "      <th>2</th>\n",
       "      <td>Wednesday</td>\n",
       "      <td>1</td>\n",
       "      <td>0</td>\n",
       "      <td>2019-08-21</td>\n",
       "      <td>No</td>\n",
       "      <td>138</td>\n",
       "      <td>11</td>\n",
       "      <td>1106</td>\n",
       "      <td>BRU</td>\n",
       "    </tr>\n",
       "    <tr>\n",
       "      <th>3</th>\n",
       "      <td>Tuesday</td>\n",
       "      <td>1</td>\n",
       "      <td>0</td>\n",
       "      <td>2018-08-21</td>\n",
       "      <td>No</td>\n",
       "      <td>302</td>\n",
       "      <td>24</td>\n",
       "      <td>942</td>\n",
       "      <td>BRU</td>\n",
       "    </tr>\n",
       "    <tr>\n",
       "      <th>4</th>\n",
       "      <td>Wednesday</td>\n",
       "      <td>1</td>\n",
       "      <td>0</td>\n",
       "      <td>2021-09-22</td>\n",
       "      <td>No</td>\n",
       "      <td>211</td>\n",
       "      <td>17</td>\n",
       "      <td>1033</td>\n",
       "      <td>BRU</td>\n",
       "    </tr>\n",
       "  </tbody>\n",
       "</table>\n",
       "</div>"
      ],
      "text/plain": [
       "         DoW  hour  minute       date maintenance  prod_loss  prod_loss_perc  \\\n",
       "0    Tuesday     1       0 2020-09-22          No        225              18   \n",
       "1     Monday     1       0 2018-01-22          No        255              20   \n",
       "2  Wednesday     1       0 2019-08-21          No        138              11   \n",
       "3    Tuesday     1       0 2018-08-21          No        302              24   \n",
       "4  Wednesday     1       0 2021-09-22          No        211              17   \n",
       "\n",
       "   production site  \n",
       "0        1019  BRU  \n",
       "1         989  BRU  \n",
       "2        1106  BRU  \n",
       "3         942  BRU  \n",
       "4        1033  BRU  "
      ]
     },
     "execution_count": 3,
     "metadata": {},
     "output_type": "execute_result"
    }
   ],
   "source": [
    "def preprocess(df):\n",
    "    # exclude maintenance days\n",
    "    df = df[df['maintenance'] == 'No']\n",
    "    \n",
    "    df = df.copy()\n",
    "    df.date = pd.to_datetime(df.date)\n",
    "    df.prod_loss_perc = df.prod_loss_perc.astype(int)\n",
    "    df.prod_loss = df.prod_loss.astype(int)\n",
    "    df.production = df.production.astype(int)\n",
    "    return df\n",
    "\n",
    "# clean & filter data\n",
    "daily_prod_excl_maint = preprocess(daily_prod)\n",
    "\n",
    "daily_prod_excl_maint.info()\n",
    "daily_prod_excl_maint.head()"
   ]
  },
  {
   "cell_type": "markdown",
   "metadata": {},
   "source": [
    "## Exploratory Data Analysis"
   ]
  },
  {
   "cell_type": "markdown",
   "metadata": {},
   "source": [
    "### Explore maintenance"
   ]
  },
  {
   "cell_type": "code",
   "execution_count": 4,
   "metadata": {},
   "outputs": [
    {
     "name": "stdout",
     "output_type": "stream",
     "text": [
      "site  maintenance\n",
      "BRU   No             1736\n",
      "      Yes              94\n",
      "STO   No             1716\n",
      "      Yes             114\n",
      "Name: count, dtype: int64\n",
      "\n",
      "Maintenance BRU: 5.14%\n",
      "Maintenance STO: 6.23%\n"
     ]
    }
   ],
   "source": [
    "# Calculate percentage maintenance\n",
    "prod_per_site = daily_prod.groupby('site')['maintenance'].value_counts()\n",
    "print(prod_per_site)\n",
    "\n",
    "# Calculate percentage maintenance per site\n",
    "maintenance_counts = prod_per_site\n",
    "total_days_per_site = daily_prod.groupby('site').size()\n",
    "maintenance_perc_per_site = (maintenance_counts / total_days_per_site) * 100\n",
    "\n",
    "prob_maint_bru = maintenance_perc_per_site.get(('BRU', 'Yes'), 0)\n",
    "prob_maint_sto = maintenance_perc_per_site.get(('STO', 'Yes'), 0)\n",
    "\n",
    "print()\n",
    "print(f'Maintenance BRU: {prob_maint_bru:.2f}%')\n",
    "print(f'Maintenance STO: {prob_maint_sto:.2f}%')"
   ]
  },
  {
   "cell_type": "markdown",
   "metadata": {},
   "source": [
    "### Explore 0 production"
   ]
  },
  {
   "cell_type": "code",
   "execution_count": 5,
   "metadata": {},
   "outputs": [
    {
     "name": "stdout",
     "output_type": "stream",
     "text": [
      "Zero production days per site (excl maintenance days)\n",
      "site\n",
      "BRU    308\n",
      "STO    126\n",
      "dtype: int64\n",
      "\n",
      "Probability of zero production for BRU: 17.74%\n",
      "Probability of zero production for STO: 7.34%\n"
     ]
    }
   ],
   "source": [
    "# Calculate the number of zero production days for each site\n",
    "zero_prod_counts_per_site = daily_prod_excl_maint[daily_prod_excl_maint['production'] == 0].groupby('site').size()\n",
    "print(\"Zero production days per site (excl maintenance days)\")\n",
    "print(zero_prod_counts_per_site)\n",
    "\n",
    "# Calculate the total number of days for each site\n",
    "total_days_per_site = daily_prod_excl_maint.groupby('site').size()\n",
    "\n",
    "# Calculate the probability of zero production for each site\n",
    "prob_zero_prod_per_site = zero_prod_counts_per_site / total_days_per_site * 100\n",
    "\n",
    "# Extract probabilities for each site into variables\n",
    "prob_zero_prod_bru = prob_zero_prod_per_site.get('BRU', 0)\n",
    "prob_zero_prod_sto = prob_zero_prod_per_site.get('STO', 0)\n",
    "\n",
    "# Print the probabilities\n",
    "print()\n",
    "print(f\"Probability of zero production for BRU: {prob_zero_prod_bru:.2f}%\")\n",
    "print(f\"Probability of zero production for STO: {prob_zero_prod_sto:.2f}%\")\n"
   ]
  },
  {
   "cell_type": "markdown",
   "metadata": {},
   "source": [
    "### Explopre distribution of production on DaysOfWeek"
   ]
  },
  {
   "cell_type": "code",
   "execution_count": 6,
   "metadata": {},
   "outputs": [
    {
     "data": {
      "image/png": "[encoded data removed]",
      "text/plain": [
       "<Figure size 640x480 with 1 Axes>"
      ]
     },
     "metadata": {},
     "output_type": "display_data"
    }
   ],
   "source": [
    "daily_prod_excl_maint['DoW'] = pd.Categorical(daily_prod_excl_maint['DoW'], categories=['Monday', 'Tuesday', 'Wednesday', 'Thursday', 'Friday', 'Saturday', 'Sunday'], ordered=True)\n",
    "\n",
    "# Plot\n",
    "plt.hist(daily_prod_excl_maint['DoW'], weights=daily_prod_excl_maint['production'], bins=7, alpha=1)\n",
    "plt.title('Production per Day of Week')\n",
    "plt.xlabel('Day of Week')\n",
    "plt.ylabel('Production')\n",
    "plt.xticks(rotation=45)\n",
    "plt.show()"
   ]
  },
  {
   "cell_type": "code",
   "execution_count": 7,
   "metadata": {},
   "outputs": [
    {
     "data": {
      "text/plain": [
       "{'BRU msr': 1244, 'STO msr': 274}"
      ]
     },
     "execution_count": 7,
     "metadata": {},
     "output_type": "execute_result"
    }
   ],
   "source": [
    "master_data_file"
   ]
  },
  {
   "cell_type": "markdown",
   "metadata": {},
   "source": [
    "## Modeling production capability"
   ]
  },
  {
   "cell_type": "markdown",
   "metadata": {},
   "source": [
    "### Simulate non-zero production days"
   ]
  },
  {
   "cell_type": "code",
   "execution_count": 17,
   "metadata": {},
   "outputs": [
    {
     "name": "stdout",
     "output_type": "stream",
     "text": [
      "The probability of non-zero production (taking into account maintenance) is: 0.78%\n",
      "\n",
      "A potential distribution of 100 production days taking into account zero production and maintenance on site BRU: \n",
      "\n",
      "[1 0 1 1 1 1 1 0 1 1 1 1 0 1 0 0 1 1 0 1 1 1 1 1 0 1 1 1 1 1 1 1 1 0 1 0 1\n",
      " 1 1 1 1 0 0 1 0 1 1 1 1 1 1 1 1 1 1 1 1 1 1 1 0 1 1 1 1 1 1 0 1 1 1 1 1 1\n",
      " 1 1 0 0 0 1 0 1 1 1 0 1 1 0 1 1 1 1 1 1 0 0 1 0 1 1]\n"
     ]
    }
   ],
   "source": [
    "# Define parameters\n",
    "num_days = 100  # Number of days to simulate\n",
    "prob_no_maint_bru = 1 - (prob_maint_bru / 100)\n",
    "prob_no_zero_prod_bru = 1 - (prob_zero_prod_bru / 100)\n",
    "\n",
    "# Calculate probability of no maintenance with non-zero production days\n",
    "prob_no_maint_no_zero_prod_bru = prob_no_maint_bru * prob_no_zero_prod_bru\n",
    "\n",
    "# Simulate production\n",
    "no_maint_no_zero_prod_days = stats.binom.rvs(1, prob_no_maint_no_zero_prod_bru, size=num_days)\n",
    "\n",
    "# Print simulated production data for each day\n",
    "print(f'The probability of non-zero production (taking into account maintenance) is: {prob_no_maint_no_zero_prod_bru:.2f}%')\n",
    "print()\n",
    "print(f'A potential distribution of {num_days} production days taking into account zero production and maintenance on site BRU: ')\n",
    "print()\n",
    "print(no_maint_no_zero_prod_days)"
   ]
  },
  {
   "cell_type": "markdown",
   "metadata": {},
   "source": [
    "### Visualize production distribution"
   ]
  },
  {
   "cell_type": "code",
   "execution_count": 9,
   "metadata": {},
   "outputs": [
    {
     "data": {
      "text/plain": [
       "<Axes: >"
      ]
     },
     "execution_count": 9,
     "metadata": {},
     "output_type": "execute_result"
    },
    {
     "data": {
      "image/png": "[encoded data removed]",
      "text/plain": [
       "<Figure size 640x480 with 1 Axes>"
      ]
     },
     "metadata": {},
     "output_type": "display_data"
    }
   ],
   "source": [
    "# Visualize distribution of production on sites\n",
    "\n",
    "daily_prod_bru = daily_prod_excl_maint[(daily_prod_excl_maint['site'] == 'BRU') & (daily_prod_excl_maint.production != 0)]\n",
    "daily_prod_bru['production'].hist(bins=50)\n",
    "\n",
    "daily_prod_sto = daily_prod_excl_maint[(daily_prod_excl_maint['site'] == 'STO') & (daily_prod_excl_maint.production != 0)]\n",
    "daily_prod_sto['production'].hist(bins=50)"
   ]
  },
  {
   "cell_type": "code",
   "execution_count": 10,
   "metadata": {},
   "outputs": [
    {
     "data": {
      "image/png": "[encoded data removed]",
      "text/plain": [
       "<Figure size 640x480 with 1 Axes>"
      ]
     },
     "metadata": {},
     "output_type": "display_data"
    }
   ],
   "source": [
    "# Calculate PDF of distribution at BRU\n",
    "\n",
    "daily_prod_bru['production'].hist(bins=np.linspace(0, 1300, 40), density = True)\n",
    "\n",
    "# Define PDF parameters\n",
    "mean = daily_prod_bru['production'].mean()\n",
    "std_dev = daily_prod_bru['production'].std()\n",
    "\n",
    "# Generate values that fit my data\n",
    "x_values = np.linspace(0, 1300, 1000)\n",
    "\n",
    "# Calculate PDF\n",
    "pdf_values = stats.norm.pdf(x_values, loc=mean, scale=std_dev)\n",
    "\n",
    "# Plot the PDF\n",
    "plt.plot(x_values, pdf_values)\n",
    "plt.title('Probability Density Function (PDF) of Normal Distribution')\n",
    "plt.xlabel('Production at BRU')\n",
    "plt.ylabel('PDF(x)')\n",
    "plt.grid(True)\n",
    "plt.show()"
   ]
  }
 ],
 "metadata": {
  "kernelspec": {
   "display_name": "proj_stat_venv",
   "language": "python",
   "name": "proj_stat_venv"
  },
  "language_info": {
   "codemirror_mode": {
    "name": "ipython",
    "version": 3
   },
   "file_extension": ".py",
   "mimetype": "text/x-python",
   "name": "python",
   "nbconvert_exporter": "python",
   "pygments_lexer": "ipython3",
   "version": "3.11.5"
  }
 },
 "nbformat": 4,
 "nbformat_minor": 2
}
